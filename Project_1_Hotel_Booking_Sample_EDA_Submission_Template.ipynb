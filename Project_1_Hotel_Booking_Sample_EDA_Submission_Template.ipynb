{
  "nbformat": 4,
  "nbformat_minor": 0,
  "metadata": {
    "colab": {
      "private_outputs": true,
      "provenance": [],
      "collapsed_sections": [
        "vncDsAP0Gaoa",
        "FJNUwmbgGyua",
        "w6K7xa23Elo4",
        "O_i_v8NEhb9l",
        "HhfV-JJviCcP",
        "Y3lxredqlCYt",
        "3RnN4peoiCZX",
        "x71ZqKXriCWQ",
        "7hBIi_osiCS2",
        "JlHwYmJAmNHm",
        "35m5QtbWiB9F",
        "PoPl-ycgm1ru",
        "H0kj-8xxnORC",
        "nA9Y7ga8ng1Z",
        "PBTbrJXOngz2",
        "u3PMJOP6ngxN",
        "dauF4eBmngu3",
        "bKJF3rekwFvQ",
        "MSa1f5Uengrz",
        "GF8Ens_Soomf",
        "0wOQAZs5pc--",
        "K5QZ13OEpz2H",
        "lQ7QKXXCp7Bj",
        "448CDAPjqfQr",
        "KSlN3yHqYklG",
        "t6dVpIINYklI",
        "ijmpgYnKYklI",
        "-JiQyfWJYklI",
        "EM7whBJCYoAo",
        "fge-S5ZAYoAp",
        "85gYPyotYoAp",
        "RoGjAbkUYoAp",
        "4Of9eVA-YrdM",
        "iky9q4vBYrdO",
        "F6T5p64dYrdO",
        "y-Ehk30pYrdP",
        "bamQiAODYuh1",
        "QHF8YVU7Yuh3",
        "GwzvFGzlYuh3",
        "qYpmQ266Yuh3",
        "OH-pJp9IphqM",
        "bbFf2-_FphqN",
        "_ouA3fa0phqN",
        "Seke61FWphqN",
        "PIIx-8_IphqN",
        "t27r6nlMphqO",
        "r2jJGEOYphqO",
        "b0JNsNcRphqO",
        "BZR9WyysphqO",
        "jj7wYXLtphqO",
        "eZrbJ2SmphqO",
        "rFu4xreNphqO",
        "YJ55k-q6phqO",
        "gCFgpxoyphqP",
        "OVtJsKN_phqQ",
        "lssrdh5qphqQ",
        "U2RJ9gkRphqQ",
        "1M8mcRywphqQ",
        "tgIPom80phqQ",
        "JMzcOPDDphqR",
        "x-EpHcCOp1ci",
        "X_VqEhTip1ck",
        "8zGJKyg5p1ck",
        "PVzmfK_Ep1ck",
        "n3dbpmDWp1ck",
        "ylSl6qgtp1ck",
        "ZWILFDl5p1ck",
        "M7G43BXep1ck",
        "Ag9LCva-p1cl",
        "E6MkPsBcp1cl",
        "2cELzS2fp1cl",
        "3MPXvC8up1cl",
        "NC_X3p0fY2L0",
        "UV0SzAkaZNRQ",
        "YPEH6qLeZNRQ",
        "q29F0dvdveiT",
        "EXh0U9oCveiU",
        "22aHeOlLveiV",
        "JcMwzZxoAimU",
        "8G2x9gOozGDZ",
        "gCX9965dhzqZ",
        "gIfDvo9L0UH2"
      ],
      "include_colab_link": true
    },
    "kernelspec": {
      "name": "python3",
      "display_name": "Python 3"
    },
    "language_info": {
      "name": "python"
    }
  },
  "cells": [
    {
      "cell_type": "markdown",
      "metadata": {
        "id": "view-in-github",
        "colab_type": "text"
      },
      "source": [
        "<a href=\"https://colab.research.google.com/github/Nivedita74/EDA-1/blob/main/Project_1_Hotel_Booking_Sample_EDA_Submission_Template.ipynb\" target=\"_parent\"><img src=\"https://colab.research.google.com/assets/colab-badge.svg\" alt=\"Open In Colab\"/></a>"
      ]
    },
    {
      "cell_type": "markdown",
      "source": [
        "# **Project Name**    - **Hotel Booking**\n",
        "\n"
      ],
      "metadata": {
        "id": "vncDsAP0Gaoa"
      }
    },
    {
      "cell_type": "markdown",
      "source": [
        "##### **Project Type**    - EDA\n",
        "##### **Contribution**    - Individual\n"
      ],
      "metadata": {
        "id": "beRrZCGUAJYm"
      }
    },
    {
      "cell_type": "markdown",
      "source": [
        "# **Project Summary -**"
      ],
      "metadata": {
        "id": "FJNUwmbgGyua"
      }
    },
    {
      "cell_type": "markdown",
      "source": [
        "Write the summary here within 500-600 words.\n",
        "\n",
        "The dataset provided encompasses a wealth of information related to hotel bookings, guest characteristics, and reservation details, which can be leveraged to extract valuable insights for enhancing operational efficiency and revenue management in the hotel industry. Each column in the dataset plays a crucial role in painting a comprehensive picture of booking behaviors and customer preferences.\n",
        "\n",
        "Overview of Key Columns\n",
        "Hotel Type: The dataset includes categorical data indicating the type of hotel (e.g., Resort Hotel, City Hotel), which is essential for analyzing booking trends and understanding how different hotel types perform in terms of occupancy and revenue.\n",
        "\n",
        "Cancellation Metrics: The is_canceled column indicates whether a booking was canceled (1) or not (0), providing a basis for calculating cancellation rates. Coupled with previous_cancellations, this information can help identify patterns and factors contributing to cancellations, allowing management to implement targeted strategies to mitigate these occurrences.\n",
        "\n",
        "Booking Lead Time: The lead_time column, which indicates the number of days between booking and arrival, offers insights into customer booking behaviors. Analyzing lead times can reveal peak booking periods and inform marketing strategies tailored to specific customer segments.\n",
        "\n",
        "Arrival Information: Columns detailing the arrival_date_year, arrival_date_month, arrival_date_week_number, and arrival_date_day_of_month allow for in-depth seasonal analysis. This data can help identify peak seasons and days of the week, enabling more effective inventory and pricing strategies.\n",
        "\n",
        "Stay Characteristics: The dataset includes details on the stays_in_weekend_nights and stays_in_week_nights, providing insights into guests' preferences for weekend versus weekday stays. Understanding these preferences can inform marketing campaigns and promotional offers aimed at different segments of guests.\n",
        "\n",
        "Guest Demographics: Columns indicating the number of adults, children, and babies in a booking allow for the analysis of guest demographics. This information is crucial for targeting family-oriented promotions and understanding the needs of different guest profiles.\n",
        "\n",
        "Meal Plans and Pricing: The meal column indicates the type of meal plan chosen, while the adr (Average Daily Rate) column provides insights into pricing strategies. Analyzing ADR alongside customer types and meal preferences can guide hotels in developing competitive pricing models.\n",
        "\n",
        "Market Segmentation: The dataset also captures information on market_segment and distribution_channel, which are vital for understanding how guests find and book their accommodations. This insight can help optimize marketing efforts across various channels.\n",
        "\n",
        "Loyalty and Repeat Business: The is_repeated_guest column signifies customer loyalty, which can be leveraged to create targeted loyalty programs that encourage repeat business. Understanding the dynamics of repeat guests can significantly impact revenue stability.\n",
        "\n",
        "Operational Insights: Other columns like booking_changes, deposit_type, and total_of_special_requests provide operational insights that can help improve service delivery and guest satisfaction. Monitoring special requests and changes made to bookings can enhance the overall guest experience.\n",
        "\n",
        "Strategic Applications of Insights\n",
        "By utilizing this dataset, hotel management can derive actionable insights that lead to improved decision-making. For instance, identifying customer segments that yield the highest Average Daily Rates can inform targeted marketing campaigns. Analyzing cancellation patterns can help reduce no-shows and cancellations through enhanced booking policies or incentives.\n",
        "\n",
        "Moreover, understanding guest demographics and stay preferences enables hotels to tailor their offerings, ensuring a more personalized experience for guests. Implementing a dynamic pricing model based on lead time and seasonal trends can further optimize revenue and occupancy rates."
      ],
      "metadata": {
        "id": "F6v_1wHtG2nS"
      }
    },
    {
      "cell_type": "markdown",
      "source": [
        "# **GitHub Link -**"
      ],
      "metadata": {
        "id": "w6K7xa23Elo4"
      }
    },
    {
      "cell_type": "markdown",
      "source": [
        "Provide your GitHub Link here."
      ],
      "metadata": {
        "id": "h1o69JH3Eqqn"
      }
    },
    {
      "cell_type": "markdown",
      "source": [
        "# **Problem Statement**\n"
      ],
      "metadata": {
        "id": "yQaldy8SH6Dl"
      }
    },
    {
      "cell_type": "markdown",
      "source": [
        "Travelers encounter difficulties in today's hectic environment when looking for appropriate lodging, which results in drawn-out procedures and uneven booking experiences. Real-time availability updates, personalized recommendations, and user-friendly interfaces are frequently absent from the current solutions.\n",
        "\n",
        "The goal of this project is to provide a complete hotel reservation system that makes it easier for customers to make reservations. In addition to guaranteeing accurate real-time data and improving user experience through personalized recommendations and effective payment choices, the system will offer an easy-to-use interface for hotel searching, comparison, and booking. We hope to increase guest happiness and expedite hotel management operations by resolving these problems.\n",
        "\n"
      ],
      "metadata": {
        "id": "DpeJGUA3kjGy"
      }
    },
    {
      "cell_type": "markdown",
      "source": [
        "#### **Define Your Business Objective?**"
      ],
      "metadata": {
        "id": "PH-0ReGfmX4f"
      }
    },
    {
      "cell_type": "markdown",
      "source": [
        "Provide good service and more reservations"
      ],
      "metadata": {
        "id": "PhDvGCAqmjP1"
      }
    },
    {
      "cell_type": "markdown",
      "source": [
        "# ***Let's Begin !***"
      ],
      "metadata": {
        "id": "O_i_v8NEhb9l"
      }
    },
    {
      "cell_type": "markdown",
      "source": [
        "## ***1. Know Your Data***"
      ],
      "metadata": {
        "id": "HhfV-JJviCcP"
      }
    },
    {
      "cell_type": "markdown",
      "source": [
        "### Import Libraries"
      ],
      "metadata": {
        "id": "Y3lxredqlCYt"
      }
    },
    {
      "cell_type": "code",
      "source": [
        "# Import Libraries\n",
        "from google.colab import drive\n",
        "drive.mount('/content/drive')\n",
        "import numpy as np\n",
        "import pandas as pd\n",
        "import matplotlib.pyplot as plt\n",
        "import seaborn as sns\n",
        "\n",
        "\n",
        "#df = pd.read_excel(path)"
      ],
      "metadata": {
        "id": "M8Vqi-pPk-HR"
      },
      "execution_count": null,
      "outputs": []
    },
    {
      "cell_type": "code",
      "source": [
        "from google.colab import drive\n",
        "drive.mount('/content/drive')"
      ],
      "metadata": {
        "id": "BNUQsB6oa8Vm"
      },
      "execution_count": null,
      "outputs": []
    },
    {
      "cell_type": "markdown",
      "source": [
        "### Dataset Loading"
      ],
      "metadata": {
        "id": "3RnN4peoiCZX"
      }
    },
    {
      "cell_type": "code",
      "source": [
        "# Load Dataset\n",
        "path = '/content/drive/MyDrive/Hotel Bookings.xlsx'\n",
        "df = pd.read_excel(path)"
      ],
      "metadata": {
        "id": "4CkvbW_SlZ_R"
      },
      "execution_count": null,
      "outputs": []
    },
    {
      "cell_type": "markdown",
      "source": [
        "### Dataset First View"
      ],
      "metadata": {
        "id": "x71ZqKXriCWQ"
      }
    },
    {
      "cell_type": "code",
      "source": [
        "# Dataset First Look\n",
        "df.head()"
      ],
      "metadata": {
        "id": "LWNFOSvLl09H"
      },
      "execution_count": null,
      "outputs": []
    },
    {
      "cell_type": "markdown",
      "source": [
        "### Dataset Rows & Columns count"
      ],
      "metadata": {
        "id": "7hBIi_osiCS2"
      }
    },
    {
      "cell_type": "code",
      "source": [
        "# Dataset Rows & Columns count\n",
        "df.shape"
      ],
      "metadata": {
        "id": "Kllu7SJgmLij"
      },
      "execution_count": null,
      "outputs": []
    },
    {
      "cell_type": "markdown",
      "source": [
        "### Dataset Information"
      ],
      "metadata": {
        "id": "JlHwYmJAmNHm"
      }
    },
    {
      "cell_type": "code",
      "source": [
        "# Dataset Info\n",
        "df.info()"
      ],
      "metadata": {
        "id": "e9hRXRi6meOf"
      },
      "execution_count": null,
      "outputs": []
    },
    {
      "cell_type": "markdown",
      "source": [
        "#### Duplicate Values"
      ],
      "metadata": {
        "id": "35m5QtbWiB9F"
      }
    },
    {
      "cell_type": "code",
      "source": [
        "# Dataset Duplicate Value Count\n",
        "#duplicate_counts = df['hotel'].value_counts()\n",
        "len(df[df.duplicated()])"
      ],
      "metadata": {
        "id": "1sLdpKYkmox0"
      },
      "execution_count": null,
      "outputs": []
    },
    {
      "cell_type": "markdown",
      "source": [
        "#### Missing Values/Null Values"
      ],
      "metadata": {
        "id": "PoPl-ycgm1ru"
      }
    },
    {
      "cell_type": "code",
      "source": [
        "# Missing Values/Null Values Count\n",
        "print(df.isnull().sum())"
      ],
      "metadata": {
        "id": "GgHWkxvamxVg"
      },
      "execution_count": null,
      "outputs": []
    },
    {
      "cell_type": "code",
      "source": [
        "# Visualizing the missing values\n",
        "plt.rcParams['figure.figsize'] = (2, 4)\n",
        "sns.boxplot(df['agent'])"
      ],
      "metadata": {
        "id": "3q5wnI3om9sJ"
      },
      "execution_count": null,
      "outputs": []
    },
    {
      "cell_type": "markdown",
      "source": [
        "### What did you know about your dataset?"
      ],
      "metadata": {
        "id": "H0kj-8xxnORC"
      }
    },
    {
      "cell_type": "markdown",
      "source": [
        "we have Hotel Booking data,here column number is 119390 and row number is 32.The hotel booking dataset provides detailed information about reservations, guest behavior, and operational metrics, making it a valuable resource for understanding patterns in the hospitality industry. It includes data on two hotel types—City Hotel and Resort Hotel—allowing for a comparative analysis of booking trends across different settings. Key aspects covered in the dataset include booking status (e.g., cancellations), lead times, seasonal arrival patterns, and stay duration, helping hotels identify peak periods and manage inventory effectively. Additionally, it captures guest demographics such as the number of adults, children, and babies per booking, along with customer types (e.g., transient, contract), enabling segmentation and personalized marketing strategies. The dataset also provides insights into the distribution channels and market segments guests use for bookings, which can inform channel optimization and promotional efforts. Operational metrics like booking changes, deposit types, special requests, and waiting list durations further highlight opportunities to enhance the guest experience and streamline processes. With information on average daily rates (ADR), meal plans, and loyalty indicators (repeated guests), hotels can refine pricing models, improve retention, and boost revenue. Overall, the dataset offers a comprehensive view of the factors influencing hotel performance, helping operators make data-driven decisions to enhance service quality, customer satisfaction, and profitability."
      ],
      "metadata": {
        "id": "gfoNAAC-nUe_"
      }
    },
    {
      "cell_type": "markdown",
      "source": [
        "## ***2. Understanding Your Variables***"
      ],
      "metadata": {
        "id": "nA9Y7ga8ng1Z"
      }
    },
    {
      "cell_type": "code",
      "source": [
        "# Dataset Columns\n",
        "df.columns"
      ],
      "metadata": {
        "id": "j7xfkqrt5Ag5"
      },
      "execution_count": null,
      "outputs": []
    },
    {
      "cell_type": "code",
      "source": [
        "# Dataset Describe\n",
        "df.describe()"
      ],
      "metadata": {
        "id": "DnOaZdaE5Q5t"
      },
      "execution_count": null,
      "outputs": []
    },
    {
      "cell_type": "code",
      "source": [],
      "metadata": {
        "id": "gS4sxYTPQ1qK"
      },
      "execution_count": null,
      "outputs": []
    },
    {
      "cell_type": "markdown",
      "source": [
        "### Variables Description"
      ],
      "metadata": {
        "id": "PBTbrJXOngz2"
      }
    },
    {
      "cell_type": "markdown",
      "source": [
        "**hotel** : name of reort\n",
        "\n",
        "**is_canceled**: Number of booking cancelled\n",
        "\n",
        "**lead_time** : Total time period\n",
        "\n",
        "**arrival_date_year** : The year  to arrive at a hotel\n",
        "\n",
        "**arrival_date_month** :  The month   to arrive at a hotel                   \n",
        "**arrival_date_week_number** : the week number of the year for the guest's arrival date             \n",
        "**arrival_date_day_of_month** : Day of arrival          \n",
        "**stays_in_weekend_nights** :A stay that takes place over a weekend, which is Saturday and Sunday              \n",
        "**stays_in_week_nights** :A stay that takes place over a week days, which is from Monday to Friday                  \n",
        "**adult** : Number of Adult                              \n",
        "**children**: Number of children                              \n",
        "**babies** : Number of babies                             \n",
        "**meal** : Food served\n",
        "\n",
        "**country** : Nationality of guest                             \n",
        "**market_segment** : Dividing a large market into smaller groups                        \n",
        "**distribution_channel** : The network of businesses and intermediaries that move a product or service from the manufacturer to the consumer                  \n",
        "**is_repeated_guest** : Revisit of guest                     \n",
        "**previous_cancellations** : Cancellation of previoue booking                 \n",
        "**previous_bookings_not_canceled** : No cancellation        \n",
        "**reserved_room_type** : The type of room a customer has reserved                   \n",
        "**assigned_room_type** : he type of room a customer has assigned                    \n",
        "**booking_changes** : Indicates whether there have been any changes to a booking                       \n",
        "**deposit_type** : ndicates the type of deposit made for a booking:                           \n",
        "agent                              \n",
        "**company** : The company variable refers to the company that made the booking                          \n",
        "**days_in_waiting_list** : A numerical value that can contain data about how long a booking was on a waiting list                   \n",
        "**customer_type** : The type of booking                         \n",
        "**adr** : Average daily rate                                 \n",
        "**required_car_parking_spaces** :  whether a customer requested car parking spaces            \n",
        "**total_of_special_requests** : A numerical variable that can be used to analyze hotel bookings              \n",
        "**reservation_status** :  The current status of a guest's reservation.                    \n",
        "**reservation_status_date** : The date when the status of a reservation was last updated or recorded"
      ],
      "metadata": {
        "id": "aJV4KIxSnxay"
      }
    },
    {
      "cell_type": "markdown",
      "source": [],
      "metadata": {
        "id": "yqkSFln67hdG"
      }
    },
    {
      "cell_type": "markdown",
      "source": [
        "### Check Unique Values for each variable."
      ],
      "metadata": {
        "id": "u3PMJOP6ngxN"
      }
    },
    {
      "cell_type": "code",
      "source": [
        "# Check Unique Values for each variable.\n",
        "#unique_values = df['adr'].unique()\n",
        "#print(unique_values)\n",
        "for column in df.columns:\n",
        "    unique_values = df[column].unique()\n",
        "    print(f\"Unique values in '{column}':\")\n",
        "    print(unique_values)\n",
        "    print(f\"Number of unique values: {len(unique_values)}\\n\")"
      ],
      "metadata": {
        "id": "zms12Yq5n-jE"
      },
      "execution_count": null,
      "outputs": []
    },
    {
      "cell_type": "markdown",
      "source": [
        "## 3. ***Data Wrangling***"
      ],
      "metadata": {
        "id": "dauF4eBmngu3"
      }
    },
    {
      "cell_type": "markdown",
      "source": [
        "### Data Wrangling Code"
      ],
      "metadata": {
        "id": "bKJF3rekwFvQ"
      }
    },
    {
      "cell_type": "code",
      "source": [
        "# Write your code to make your dataset analysis ready."
      ],
      "metadata": {
        "id": "wk-9a2fpoLcV"
      },
      "execution_count": null,
      "outputs": []
    },
    {
      "cell_type": "markdown",
      "source": [
        "### What all manipulations have you done and insights you found?"
      ],
      "metadata": {
        "id": "MSa1f5Uengrz"
      }
    },
    {
      "cell_type": "markdown",
      "source": [
        "Answer Here."
      ],
      "metadata": {
        "id": "LbyXE7I1olp8"
      }
    },
    {
      "cell_type": "markdown",
      "source": [
        "## ***4. Data Vizualization, Storytelling & Experimenting with charts : Understand the relationships between variables***"
      ],
      "metadata": {
        "id": "GF8Ens_Soomf"
      }
    },
    {
      "cell_type": "markdown",
      "source": [
        "#### Chart - 1"
      ],
      "metadata": {
        "id": "0wOQAZs5pc--"
      }
    },
    {
      "cell_type": "markdown",
      "source": [
        "**Chart**   Cancellation Rate by Month"
      ],
      "metadata": {
        "id": "Stk8BaBhkc8N"
      }
    },
    {
      "cell_type": "code",
      "source": [
        "df['reservation_status_date'] = pd.to_datetime(df['reservation_status_date'])\n",
        "\n",
        "# Create a cancellation rate per month\n",
        "cancellation_rate = df.groupby('arrival_date_month')['is_canceled'].mean().sort_values()\n",
        "\n",
        "# Plotting\n",
        "plt.figure(figsize=(10, 5))\n",
        "cancellation_rate.plot(kind='bar', color='salmon')\n",
        "plt.title('Cancellation Rate by Month')\n",
        "plt.xlabel('Month')\n",
        "plt.ylabel('Cancellation Rate')\n",
        "plt.xticks(rotation=45)\n",
        "plt.show()"
      ],
      "metadata": {
        "id": "8nziFdjrQ6JB"
      },
      "execution_count": null,
      "outputs": []
    },
    {
      "cell_type": "markdown",
      "source": [
        "##### 1. Why did you pick the specific chart?"
      ],
      "metadata": {
        "id": "K5QZ13OEpz2H"
      }
    },
    {
      "cell_type": "markdown",
      "source": [
        "The bars make it easy to see which category has the highest or lowest value. A bar plot is useful for visually comparing discrete categories by showing their corresponding numerical values through bars. It provides a clear and straightforward way to identify trends, patterns, or differences across groups, making it ideal for comparing multiple items, such as sales by region or population by age group. Bar plots are flexible (vertical, horizontal, or stacked) and are especially effective for small datasets where readability is crucial"
      ],
      "metadata": {
        "id": "XESiWehPqBRc"
      }
    },
    {
      "cell_type": "markdown",
      "source": [
        "##### 2. What is/are the insight(s) found from the chart?"
      ],
      "metadata": {
        "id": "lQ7QKXXCp7Bj"
      }
    },
    {
      "cell_type": "markdown",
      "source": [
        "The cancellation rate by month measures the percentage of hotel bookings canceled in each month, helping identify seasonal trends or patterns. A higher cancellation rate in **june** could indicate factors such as unfavorable weather, holidays, or overlapping travel seasons that lead to booking adjustments. Monitoring this rate enables hotels to optimize pricing, overbooking strategies, and marketing efforts."
      ],
      "metadata": {
        "id": "C_j1G7yiqdRP"
      }
    },
    {
      "cell_type": "markdown",
      "source": [
        "##### 3. Will the gained insights help creating a positive business impact?\n",
        "Are there any insights that lead to negative growth? Justify with specific reason."
      ],
      "metadata": {
        "id": "448CDAPjqfQr"
      }
    },
    {
      "cell_type": "markdown",
      "source": [
        " A peak in cancellations during off-seasons might prompt targeted promotions to reduce cancellations, while consistent trends in cancellations can highlight operational gaps or changes in customer behavior."
      ],
      "metadata": {
        "id": "3cspy4FjqxJW"
      }
    },
    {
      "cell_type": "markdown",
      "source": [
        "#### Chart - 2 Booking Lead Time Distribution"
      ],
      "metadata": {
        "id": "KSlN3yHqYklG"
      }
    },
    {
      "cell_type": "code",
      "source": [
        "# Chart - 2 visualization code\n",
        "plt.figure(figsize=(10, 5))\n",
        "plt.hist(df['lead_time'], bins=30, color='lightblue', edgecolor='black')\n",
        "plt.title('Distribution of Booking Lead Time')\n",
        "plt.xlabel('Lead Time (days)')\n",
        "plt.ylabel('Number of Bookings')\n",
        "plt.grid(axis='y')\n",
        "plt.show()\n"
      ],
      "metadata": {
        "id": "R4YgtaqtYklH"
      },
      "execution_count": null,
      "outputs": []
    },
    {
      "cell_type": "markdown",
      "source": [
        "##### 1. Why did you pick the specific chart?"
      ],
      "metadata": {
        "id": "t6dVpIINYklI"
      }
    },
    {
      "cell_type": "markdown",
      "source": [
        "The bars make it easy to see which category has the highest or lowest value. A bar plot is useful for visually comparing discrete categories by showing their corresponding numerical values through bars. It provides a clear and straightforward way to identify trends, patterns, or differences across groups, making it ideal for comparing multiple items, such as sales by region or population by age group. Bar plots are flexible (vertical, horizontal, or stacked) and are especially effective for small datasets where readability is crucial"
      ],
      "metadata": {
        "id": "5aaW0BYyYklI"
      }
    },
    {
      "cell_type": "markdown",
      "source": [
        "##### 2. What is/are the insight(s) found from the chart?"
      ],
      "metadata": {
        "id": "ijmpgYnKYklI"
      }
    },
    {
      "cell_type": "markdown",
      "source": [
        "The distribution of booking lead time shows how far in advance guests make reservations, providing insights into customer planning behavior. This metric is crucial for hotels to forecast demand, set dynamic pricing, and plan resources effectively. A longer lead time which s from 0 to 75 days  might indicate bookings for holidays or major events, while shorter lead times e.g., last daysfrom 600 to 700 suggest spontaneous travel or business trips."
      ],
      "metadata": {
        "id": "PSx9atu2YklI"
      }
    },
    {
      "cell_type": "markdown",
      "source": [
        "##### 3. Will the gained insights help creating a positive business impact?\n",
        "Are there any insights that lead to negative growth? Justify with specific reason."
      ],
      "metadata": {
        "id": "-JiQyfWJYklI"
      }
    },
    {
      "cell_type": "markdown",
      "source": [
        "Yes, this distribution helps in understand trends in early versus last-minute bookings and adjust strategies like offering early bird discounts or last-minute deals to optimize occupancy."
      ],
      "metadata": {
        "id": "BcBbebzrYklV"
      }
    },
    {
      "cell_type": "markdown",
      "source": [
        "#### Chart - 3 Average Stay Duration"
      ],
      "metadata": {
        "id": "EM7whBJCYoAo"
      }
    },
    {
      "cell_type": "code",
      "source": [
        "# Chart - 3 visualization code\n",
        "df['total_stay'] = df['stays_in_weekend_nights'] + df['stays_in_week_nights']\n",
        "\n",
        "avg_stay_duration = df.groupby('customer_type')['total_stay'].mean()\n",
        "\n",
        "plt.figure(figsize=(8, 5))\n",
        "avg_stay_duration.plot(kind='pie',autopct='%1.f%%', color='teal')\n",
        "plt.title('Average Stay Duration by Customer Type')\n",
        "plt.xlabel('Customer Type')\n",
        "plt.ylabel('Average Stay Duration (Nights)')\n",
        "plt.xticks(rotation=0)\n",
        "plt.show()\n"
      ],
      "metadata": {
        "id": "t6GMdE67YoAp"
      },
      "execution_count": null,
      "outputs": []
    },
    {
      "cell_type": "code",
      "source": [
        "\n",
        "df['total_stay_nights'] = df['stays_in_week_nights'] + df['stays_in_weekend_nights']\n",
        "\n",
        "# Calculate the average stay duration by customer type\n",
        "average_stay = df.groupby('customer_type')['total_stay_nights'].mean().reset_index()\n",
        "\n",
        "# Creating the donut chart\n",
        "fig, ax = plt.subplots()\n",
        "ax.pie(average_stay['total_stay_nights'], labels=average_stay['customer_type'],\n",
        "       autopct='%1.1f%%', startangle=90, pctdistance=0.85,colors=sns.color_palette('pastel'))\n",
        "centre_circle = plt.Circle((0, 0), 0.70, fc='white')  # Create a white circle at the center\n",
        "fig = plt.gcf()\n",
        "fig.gca().add_artist(centre_circle)  # Add the circle in the pie chart\n",
        "ax.axis('equal')  # Equal aspect ratio ensures that pie is drawn as a circle.\n",
        "\n",
        "# Adding title\n",
        "plt.title('Average Stay Duration by Customer Type (in Nights)')\n",
        "plt.show()"
      ],
      "metadata": {
        "id": "221fgwCvYZWq"
      },
      "execution_count": null,
      "outputs": []
    },
    {
      "cell_type": "markdown",
      "source": [
        "##### 1. Why did you pick the specific chart?"
      ],
      "metadata": {
        "id": "fge-S5ZAYoAp"
      }
    },
    {
      "cell_type": "markdown",
      "source": [
        "Their intuitive design makes it simple to grasp relationships between segments, while the use of colors and distinct slices creates an immediate visual impact that engages audiences. Pie charts are particularly effective for displaying proportions and percentages, making them ideal for showcasing survey results, market shares, and demographic distributions."
      ],
      "metadata": {
        "id": "5dBItgRVYoAp"
      }
    },
    {
      "cell_type": "markdown",
      "source": [
        "##### 2. What is/are the insight(s) found from the chart?"
      ],
      "metadata": {
        "id": "85gYPyotYoAp"
      }
    },
    {
      "cell_type": "markdown",
      "source": [
        "The average stay duration by customer type reveals distinct patterns: contract customers (36%) typically have the longest stays due to long-term agreements, while group customers (20%) have moderate durations influenced by organized events. Transient customers (23%) usually stay for shorter periods, reflecting individual travel preferences, while transient party customers may have varying durations depending on group activities. Understanding these differences helps accommodations tailor their services and marketing strategies to meet the unique needs of each customer type effectively"
      ],
      "metadata": {
        "id": "4jstXR6OYoAp"
      }
    },
    {
      "cell_type": "code",
      "source": [],
      "metadata": {
        "id": "eTbw8FRwrNOT"
      },
      "execution_count": null,
      "outputs": []
    },
    {
      "cell_type": "markdown",
      "source": [
        "##### 3. Will the gained insights help creating a positive business impact?\n",
        "Are there any insights that lead to negative growth? Justify with specific reason."
      ],
      "metadata": {
        "id": "RoGjAbkUYoAp"
      }
    },
    {
      "cell_type": "markdown",
      "source": [
        "Yes, the insights gained from analyzing average stay durations by customer type can lead to a positive business impact. By tailoring services, marketing strategies, and pricing models to the unique needs of each segment—such as offering loyalty programs for contract customers and promotions for transient travelers—businesses can enhance customer satisfaction, improve operational efficiency, and ultimately drive revenue growth."
      ],
      "metadata": {
        "id": "zfJ8IqMcYoAp"
      }
    },
    {
      "cell_type": "markdown",
      "source": [
        "#### Chart - 4  Arrival Month vs. Average Daily Rate (ADR)"
      ],
      "metadata": {
        "id": "4Of9eVA-YrdM"
      }
    },
    {
      "cell_type": "code",
      "source": [
        "# Chart - 4 visualization code\n",
        "adr_by_month = df.groupby('arrival_date_month')['adr'].mean()\n",
        "\n",
        "plt.figure(figsize=(10, 5))\n",
        "adr_by_month.plot(kind='bar', color=sns.color_palette('tab10'))\n",
        "plt.title('Average Daily Rate (ADR) by Arrival Month')\n",
        "plt.xlabel('Month')\n",
        "plt.ylabel('Average Daily Rate (ADR)')\n",
        "plt.xticks(rotation=37)\n",
        "plt.show()\n"
      ],
      "metadata": {
        "id": "irlUoxc8YrdO"
      },
      "execution_count": null,
      "outputs": []
    },
    {
      "cell_type": "markdown",
      "source": [
        "##### 1. Why did you pick the specific chart?"
      ],
      "metadata": {
        "id": "iky9q4vBYrdO"
      }
    },
    {
      "cell_type": "markdown",
      "source": [
        "The bars make it easy to see which category has the highest or lowest value. A bar plot is useful for visually comparing discrete categories by showing their corresponding numerical values through bars. It provides a clear and straightforward way to identify trends, patterns, or differences across groups, making it ideal for comparing multiple items, such as sales by region or population by age group. Bar plots are flexible (vertical, horizontal, or stacked) and are especially effective for small datasets where readability is crucial"
      ],
      "metadata": {
        "id": "aJRCwT6DYrdO"
      }
    },
    {
      "cell_type": "markdown",
      "source": [
        "##### 2. What is/are the insight(s) found from the chart?"
      ],
      "metadata": {
        "id": "F6T5p64dYrdO"
      }
    },
    {
      "cell_type": "markdown",
      "source": [
        "**Peak Season**: Higher ADR in months like August due to holidays and tourism boosts.\n",
        "\n",
        "**Off-Peak Season**: Lower ADR in months like January or Febuary, prompting discounts and promotions.\n",
        "\n",
        "**Revenue Optimization:** Hotels adjust prices dynamically based on seasonal demand.\n",
        "\n",
        "**Targeted Marketing:** Focus on business travelers during low-demand periods to maintain occupancy.\n",
        "\n",
        "**Profit Maximization:** Aligning pricing strategies with seasonal trends ensures better revenue outcomes.\n"
      ],
      "metadata": {
        "id": "Xx8WAJvtYrdO"
      }
    },
    {
      "cell_type": "markdown",
      "source": [
        "##### 3. Will the gained insights help creating a positive business impact?\n",
        "Are there any insights that lead to negative growth? Justify with specific reason."
      ],
      "metadata": {
        "id": "y-Ehk30pYrdP"
      }
    },
    {
      "cell_type": "markdown",
      "source": [
        "Yes, the insights on ADR by arrival month can create a positive business impact by enabling hotels to maximize revenue during peak seasons through dynamic pricing and maintain occupancy during off-peak months with discounts or promotions"
      ],
      "metadata": {
        "id": "jLNxxz7MYrdP"
      }
    },
    {
      "cell_type": "markdown",
      "source": [
        "#### Chart - 5 Booking Changes Over Time"
      ],
      "metadata": {
        "id": "bamQiAODYuh1"
      }
    },
    {
      "cell_type": "code",
      "source": [
        "# Chart - 5 visualization code\n",
        "booking_changes = df['booking_changes'].value_counts()\n",
        "\n",
        "plt.figure(figsize=(10, 5))\n",
        "booking_changes.plot(kind='bar', color=sns.color_palette('tab10'))\n",
        "plt.title('Number of Booking Changes')\n",
        "plt.xlabel('Number of Changes')\n",
        "plt.ylabel('Count of Bookings')\n",
        "plt.xticks(rotation=0)\n",
        "plt.show()\n"
      ],
      "metadata": {
        "id": "TIJwrbroYuh3"
      },
      "execution_count": null,
      "outputs": []
    },
    {
      "cell_type": "markdown",
      "source": [
        "##### 1. Why did you pick the specific chart?"
      ],
      "metadata": {
        "id": "QHF8YVU7Yuh3"
      }
    },
    {
      "cell_type": "markdown",
      "source": [
        "By summarizing complex data into a visual format, bar charts help stakeholders make informed decisions based on clear evidence and comparisons."
      ],
      "metadata": {
        "id": "dcxuIMRPYuh3"
      }
    },
    {
      "cell_type": "markdown",
      "source": [
        "##### 2. What is/are the insight(s) found from the chart?"
      ],
      "metadata": {
        "id": "GwzvFGzlYuh3"
      }
    },
    {
      "cell_type": "markdown",
      "source": [
        "\n",
        "Booking Changes Over Time refers to analyzing how alterations in reservations—such as modifications, cancellations, or new bookings—evolve over a specific period. This analysis helps identify trends in customer behavior, revealing seasonal spikes in cancellations or modifications that may relate to economic conditions or travel disruptions."
      ],
      "metadata": {
        "id": "uyqkiB8YYuh3"
      }
    },
    {
      "cell_type": "markdown",
      "source": [
        "##### 3. Will the gained insights help creating a positive business impact?\n",
        "Are there any insights that lead to negative growth? Justify with specific reason."
      ],
      "metadata": {
        "id": "qYpmQ266Yuh3"
      }
    },
    {
      "cell_type": "markdown",
      "source": [
        "By understanding the reasons behind booking changes, hotels gain insights into customer preferences and needs, such as a desire for flexibility. Furthermore, this analysis assesses the financial impact on revenue, as high cancellation rates can lead to lost income, while recognizing timing patterns aids in forecasting future revenue streams. Additionally, these insights enable better resource allocation and staffing adjustments based on anticipated booking behavior, while informing targeted marketing strategies, like offering flexible options or promotions during high-change periods. Overall, analyzing booking changes equips hotels with valuable data to optimize operations, enhance customer satisfaction, and improve financial performance."
      ],
      "metadata": {
        "id": "_WtzZ_hCYuh4"
      }
    },
    {
      "cell_type": "markdown",
      "source": [
        "#### Chart - 6 Booking by Meal Type"
      ],
      "metadata": {
        "id": "OH-pJp9IphqM"
      }
    },
    {
      "cell_type": "code",
      "source": [
        "# Chart - 6 visualization code\n",
        "meal_distribution = df['meal'].value_counts()\n",
        "\n",
        "plt.figure(figsize=(8, 5))\n",
        "meal_distribution.plot(kind='pie', autopct='%1.f%%',)\n",
        "plt.title('Distribution of Meal Types')\n",
        "plt.ylabel('')  # Hide the y-label for better appearance\n",
        "plt.show()\n"
      ],
      "metadata": {
        "id": "kuRf4wtuphqN"
      },
      "execution_count": null,
      "outputs": []
    },
    {
      "cell_type": "markdown",
      "source": [
        "##### 1. Why did you pick the specific chart?"
      ],
      "metadata": {
        "id": "bbFf2-_FphqN"
      }
    },
    {
      "cell_type": "markdown",
      "source": [
        "\n",
        "Pie charts are an effective visualization tool that represents data in a circular format, illustrating the proportional contributions of different categories through slices.\n",
        "\n",
        "Meal(BB,HB,SC,FB,Undefined)"
      ],
      "metadata": {
        "id": "loh7H2nzphqN"
      }
    },
    {
      "cell_type": "markdown",
      "source": [
        "##### 2. What is/are the insight(s) found from the chart?"
      ],
      "metadata": {
        "id": "_ouA3fa0phqN"
      }
    },
    {
      "cell_type": "markdown",
      "source": [
        "Analyzing the Distribution of Meal Types (Bed & Breakfast (BB), Half Board (HB), Full Board (FB), Self-Catering (SC), and Undefined) offers valuable insights into guest preferences and operational strategies for hotels.\n",
        "\n",
        "**BB** is most popular meal with 77%\n",
        "\n",
        "**FB and undefined** is least popular among the clients with 1% only"
      ],
      "metadata": {
        "id": "VECbqPI7phqN"
      }
    },
    {
      "cell_type": "markdown",
      "source": [
        "##### 3. Will the gained insights help creating a positive business impact?\n",
        "Are there any insights that lead to negative growth? Justify with specific reason."
      ],
      "metadata": {
        "id": "Seke61FWphqN"
      }
    },
    {
      "cell_type": "markdown",
      "source": [
        "Yes, By identifying the most popular meal types, hotels can tailor their dining offerings and enhance guest satisfaction, while also improving resource allocation for staffing and inventory management. Understanding these preferences allows for targeted marketing efforts, as different meal plans may attract varying traveler segments, such as families or business travelers."
      ],
      "metadata": {
        "id": "DW4_bGpfphqN"
      }
    },
    {
      "cell_type": "markdown",
      "source": [
        "#### Chart - 7  Arrival Dates vs. Cancellation Rate"
      ],
      "metadata": {
        "id": "PIIx-8_IphqN"
      }
    },
    {
      "cell_type": "code",
      "source": [
        "# Chart - 7 visualization code\n",
        "cancellation_by_week = df.groupby('arrival_date_week_number')['is_canceled'].mean()\n",
        "\n",
        "plt.figure(figsize=(10, 5))\n",
        "cancellation_by_week.plot(kind='line', marker='o', color='purple')\n",
        "plt.title('Cancellation Rate by Arrival Week Number')\n",
        "plt.xlabel('Arrival Week Number')\n",
        "plt.ylabel('Cancellation Rate')\n",
        "plt.grid()\n",
        "plt.show()\n"
      ],
      "metadata": {
        "id": "lqAIGUfyphqO"
      },
      "execution_count": null,
      "outputs": []
    },
    {
      "cell_type": "markdown",
      "source": [
        "##### 1. Why did you pick the specific chart?"
      ],
      "metadata": {
        "id": "t27r6nlMphqO"
      }
    },
    {
      "cell_type": "markdown",
      "source": [
        " line chart is ideal for visualizing trends over time, making it easy to track changes, patterns, and progress. It provides a clear view of increases, decreases, or fluctuations, allowing for quick identification of outliers or sudden changes"
      ],
      "metadata": {
        "id": "iv6ro40sphqO"
      }
    },
    {
      "cell_type": "markdown",
      "source": [
        "##### 2. What is/are the insight(s) found from the chart?"
      ],
      "metadata": {
        "id": "r2jJGEOYphqO"
      }
    },
    {
      "cell_type": "markdown",
      "source": [
        "Identifying weeks with high cancellation rates can inform staffing and promotional strategies\n",
        "\n",
        "**Seasonal Trends:**\n",
        "\n",
        "Higher cancellation rates may align with holiday seasons or peak travel weeks, indicating more speculative bookings. For example, guests might make multiple reservations and cancel depending on availability or price changes.\n",
        "\n",
        "**Impact of Lead Time:**\n",
        "\n",
        "Weeks with high cancellations might correlate with longer lead times, where guests make reservations far in advance and later change plans.\n",
        "\n",
        "**Booking Behavior:**\n",
        "\n",
        "Certain weeks (like mid-summer or year-end holidays) may show higher cancellations due to last-minute decision changes or overbooking trends by customers.\n"
      ],
      "metadata": {
        "id": "Po6ZPi4hphqO"
      }
    },
    {
      "cell_type": "markdown",
      "source": [
        "##### 3. Will the gained insights help creating a positive business impact?\n",
        "Are there any insights that lead to negative growth? Justify with specific reason."
      ],
      "metadata": {
        "id": "b0JNsNcRphqO"
      }
    },
    {
      "cell_type": "markdown",
      "source": [
        "This insight helps hotels optimize resource allocation, pricing, and overbooking strategies, ensuring better management during volatile periods. A line chart can effectively display these trends, showing how cancellation rates fluctuate across the 52 weeks of the year."
      ],
      "metadata": {
        "id": "xvSq8iUTphqO"
      }
    },
    {
      "cell_type": "markdown",
      "source": [
        "#### Chart - 8 **Count of Customer Types**"
      ],
      "metadata": {
        "id": "BZR9WyysphqO"
      }
    },
    {
      "cell_type": "code",
      "source": [
        "# Chart - 8 visualization code\n",
        "plt.figure(figsize=(8, 6))\n",
        "sns.countplot(x='customer_type', data=df, palette='pastel')\n",
        "plt.title('Count of Customer Types')\n",
        "plt.xlabel('Customer Type')\n",
        "plt.ylabel('Count')\n",
        "plt.show()"
      ],
      "metadata": {
        "id": "TdPTWpAVphqO"
      },
      "execution_count": null,
      "outputs": []
    },
    {
      "cell_type": "markdown",
      "source": [
        "##### 1. Why did you pick the specific chart?"
      ],
      "metadata": {
        "id": "jj7wYXLtphqO"
      }
    },
    {
      "cell_type": "markdown",
      "source": [
        "Visualizing these counts through a bar plot makes it easy to identify the dominant customer type and adjust strategies accordingly.You can use horizontal or vertical bars, stack bars to show components, or group them for comparisons between multiple variables."
      ],
      "metadata": {
        "id": "Ob8u6rCTphqO"
      }
    },
    {
      "cell_type": "markdown",
      "source": [
        "##### 2. What is/are the insight(s) found from the chart?"
      ],
      "metadata": {
        "id": "eZrbJ2SmphqO"
      }
    },
    {
      "cell_type": "markdown",
      "source": [
        "**Dominance of Transient Customers:**\n",
        "\n",
        "Transient customers (individual travelers making short-term bookings) often form the majority\n",
        "According to given dataset majority is transients\n",
        "\n",
        "**Group Bookings Impact:**\n",
        "\n",
        "Group bookings represent multiple guests under a single reservation (e.g., corporate events or tour groups). An increase in group bookings suggests demand for meeting facilities or group discounts\n",
        " here group has least count"
      ],
      "metadata": {
        "id": "mZtgC_hjphqO"
      }
    },
    {
      "cell_type": "markdown",
      "source": [
        "##### 3. Will the gained insights help creating a positive business impact?\n",
        "Are there any insights that lead to negative growth? Justify with specific reason."
      ],
      "metadata": {
        "id": "rFu4xreNphqO"
      }
    },
    {
      "cell_type": "markdown",
      "source": [
        "Understanding the distribution of these customer types allows hotels to tailor marketing campaigns, plan resources efficiently, and optimize room availability to meet the specific needs of each segment."
      ],
      "metadata": {
        "id": "ey_0qi68phqO"
      }
    },
    {
      "cell_type": "markdown",
      "source": [
        "#### Chart - 9"
      ],
      "metadata": {
        "id": "YJ55k-q6phqO"
      }
    },
    {
      "cell_type": "code",
      "source": [
        "# Chart - 9 visualization code\n",
        "average_adr = df.groupby('market_segment')['adr'].mean().reset_index()\n",
        "\n",
        "plt.figure(figsize=(8, 6))\n",
        "\n",
        "# Create bar plot\n",
        "plt.bar(average_adr['market_segment'], average_adr['adr'], color='skyblue')\n",
        "\n",
        "# Set title and labels\n",
        "plt.title('Average ADR by Market Segment')\n",
        "plt.xlabel('Market Segment')\n",
        "plt.ylabel('Average ADR')\n",
        "\n",
        "plt.xticks(rotation=45)  # Rotate x labels for better readability\n",
        "plt.tight_layout()  # Adjust layout to prevent clipping\n",
        "\n",
        "plt.show()"
      ],
      "metadata": {
        "id": "Q37b-OFswiEU"
      },
      "execution_count": null,
      "outputs": []
    },
    {
      "cell_type": "markdown",
      "source": [
        "##### 1. Why did you pick the specific chart?"
      ],
      "metadata": {
        "id": "gCFgpxoyphqP"
      }
    },
    {
      "cell_type": "markdown",
      "source": [
        " A bar chart can effectively visualize this insight, making it easy to compare the ADR across market segments and identify high and low revenue channels at a glance\n",
        "You can use horizontal or vertical bars, stack bars to show components, or group them for comparisons between multiple variables."
      ],
      "metadata": {
        "id": "TVxDimi2phqP"
      }
    },
    {
      "cell_type": "markdown",
      "source": [
        "##### 2. What is/are the insight(s) found from the chart?"
      ],
      "metadata": {
        "id": "OVtJsKN_phqQ"
      }
    },
    {
      "cell_type": "markdown",
      "source": [
        "**High-Value Segments:**\n",
        "\n",
        "Segments like **Direct and online TA** often yield a higher ADR due to premium bookings, business travelers, or fewer discounts. This suggests these customers are willing to pay higher prices for convenience or loyalty benefits.\n",
        "\n",
        "COmplementary has least average ADR"
      ],
      "metadata": {
        "id": "ngGi97qjphqQ"
      }
    },
    {
      "cell_type": "markdown",
      "source": [
        "##### 3. Will the gained insights help creating a positive business impact?\n",
        "Are there any insights that lead to negative growth? Justify with specific reason."
      ],
      "metadata": {
        "id": "lssrdh5qphqQ"
      }
    },
    {
      "cell_type": "markdown",
      "source": [
        "Understanding the average ADR across market segments helps hotels tailor pricing strategies for each channel. High-ADR segments can be prioritized during peak seasons, while lower-ADR segments can fill rooms during off-peak periods. This insight ensures an optimal mix of bookings, balancing profitability and occupancy."
      ],
      "metadata": {
        "id": "tBpY5ekJphqQ"
      }
    },
    {
      "cell_type": "markdown",
      "source": [
        "#### Chart - 10 **Stay Distribution**"
      ],
      "metadata": {
        "id": "U2RJ9gkRphqQ"
      }
    },
    {
      "cell_type": "code",
      "source": [
        "total_weekend_nights = df['stays_in_weekend_nights'].sum()\n",
        "total_week_nights = df['stays_in_week_nights'].sum()\n",
        "\n",
        "# Prepare data for donut chart\n",
        "stay_types = ['Weekend Nights', 'Week Nights']\n",
        "stay_counts = [total_weekend_nights, total_week_nights]\n",
        "\n",
        "# Create a donut chart\n",
        "plt.figure(figsize=(4, 4))\n",
        "plt.pie(stay_counts, labels=stay_types, autopct='%1.1f%%', startangle=140, colors=sns.color_palette('pastel'))\n",
        "centre_circle = plt.Circle((0, 0), 0.70, fc='white')  # Create a white circle at the center\n",
        "fig = plt.gcf()\n",
        "fig.gca().add_artist(centre_circle)  # Add the circle in the pie chart\n",
        "\n",
        "plt.title('Stay Distribution: Weekend Nights vs Week Nights', fontsize=16, fontweight='bold')\n",
        "plt.axis('equal')  # Equal aspect ratio ensures the donut is circular\n",
        "plt.show()"
      ],
      "metadata": {
        "id": "RP2dGM_C1g2V"
      },
      "execution_count": null,
      "outputs": []
    },
    {
      "cell_type": "markdown",
      "source": [
        "##### 1. Why did you pick the specific chart?"
      ],
      "metadata": {
        "id": "1M8mcRywphqQ"
      }
    },
    {
      "cell_type": "markdown",
      "source": [
        "A donut chart effectively visualizes proportions within a whole while enhancing readability and allowing for additional contextual information in the center."
      ],
      "metadata": {
        "id": "8agQvks0phqQ"
      }
    },
    {
      "cell_type": "markdown",
      "source": [
        "##### 2. What is/are the insight(s) found from the chart?"
      ],
      "metadata": {
        "id": "tgIPom80phqQ"
      }
    },
    {
      "cell_type": "markdown",
      "source": [
        "Week nights has more percentage as 72.9% which indicate that the clients mostly visit during week days. Hotels can use this insight to target specific customer segments.As week stays are dominant, they should focus on leisure packages, while higher weeknight bookings may benefit from corporate partnerships and loyalty programs aimed at business travelers.\n"
      ],
      "metadata": {
        "id": "Qp13pnNzphqQ"
      }
    },
    {
      "cell_type": "markdown",
      "source": [
        "##### 3. Will the gained insights help creating a positive business impact?\n",
        "Are there any insights that lead to negative growth? Justify with specific reason."
      ],
      "metadata": {
        "id": "JMzcOPDDphqR"
      }
    },
    {
      "cell_type": "markdown",
      "source": [
        "Understanding the balance between weekend and weeknight stays helps hotels optimize pricing strategies, operations, and marketing efforts. This ensures better resource management and maximizes revenue by catering to the needs of different customer types throughout the week."
      ],
      "metadata": {
        "id": "R4Ka1PC2phqR"
      }
    },
    {
      "cell_type": "markdown",
      "source": [
        "#### Chart - 11 Total Cancellations by Hotel Type"
      ],
      "metadata": {
        "id": "x-EpHcCOp1ci"
      }
    },
    {
      "cell_type": "code",
      "source": [
        "# Chart - 11 visualization code\n",
        "plt.figure(figsize=(8, 4))\n",
        "sns.barplot(x='hotel', y='is_canceled', data=df, estimator=sum, palette='Blues', edgecolor='black')\n",
        "plt.title('Total Cancellations by Hotel Type')\n",
        "plt.xlabel('Hotel Type')\n",
        "plt.ylabel('Number of Cancellations')\n",
        "plt.show()"
      ],
      "metadata": {
        "id": "mAQTIvtqp1cj"
      },
      "execution_count": null,
      "outputs": []
    },
    {
      "cell_type": "markdown",
      "source": [
        "##### 1. Why did you pick the specific chart?"
      ],
      "metadata": {
        "id": "X_VqEhTip1ck"
      }
    },
    {
      "cell_type": "markdown",
      "source": [
        "A bar chart comparing total cancellations by hotel type can effectively highlight differences in cancellation behavior, allowing hotel management to make informed decisions about marketing, pricing, and operational strategie"
      ],
      "metadata": {
        "id": "-vsMzt_np1ck"
      }
    },
    {
      "cell_type": "markdown",
      "source": [
        "##### 2. What is/are the insight(s) found from the chart?"
      ],
      "metadata": {
        "id": "8zGJKyg5p1ck"
      }
    },
    {
      "cell_type": "markdown",
      "source": [
        "**Cancellation Patterns:**\n",
        "\n",
        "Typically, Resort Hotels may experience higher cancellation rates due to the leisure nature of bookings, where guests might cancel based on changing vacation plans or external factors (e.g., weather).\n",
        "City Hotels, primarily catering to business travelers, may have lower cancellation rates, as these customers often book with stricter policies or have specific travel requirements.\n",
        "\n",
        "**Revenue Implications:**\n",
        "\n",
        "A high cancellation rate in Resort Hotels could significantly impact revenue, necessitating flexible pricing strategies or last-minute deals to fill rooms.\n",
        "In contrast, City Hotels may focus on securing corporate contracts or loyalty programs to ensure consistent occupancy and revenue.\n"
      ],
      "metadata": {
        "id": "ZYdMsrqVp1ck"
      }
    },
    {
      "cell_type": "markdown",
      "source": [
        "##### 3. Will the gained insights help creating a positive business impact?\n",
        "Are there any insights that lead to negative growth? Justify with specific reason."
      ],
      "metadata": {
        "id": "PVzmfK_Ep1ck"
      }
    },
    {
      "cell_type": "markdown",
      "source": [
        "Understanding cancellation trends helps hotels refine their operational strategies. For instance, Resort Hotels may want to enhance their marketing for last-minute travelers, while City Hotels might improve their booking policies to minimize cancellations."
      ],
      "metadata": {
        "id": "druuKYZpp1ck"
      }
    },
    {
      "cell_type": "markdown",
      "source": [
        "#### Chart - 12  **ADR Distribution by Customer Type**"
      ],
      "metadata": {
        "id": "n3dbpmDWp1ck"
      }
    },
    {
      "cell_type": "code",
      "source": [
        "plt.figure(figsize=(8, 5))\n",
        "sns.boxplot(x='customer_type', y='adr', data=df, palette='pastel')\n",
        "\n",
        "# Add labels and title\n",
        "plt.xlabel('Customer Type', fontsize=12)\n",
        "plt.ylabel('Average Daily Rate (ADR)', fontsize=12)\n",
        "plt.title('ADR Distribution by Customer Type', fontsize=15)\n",
        "\n",
        "# Display the plot\n",
        "plt.show()"
      ],
      "metadata": {
        "id": "6pLuKsoXlMw1"
      },
      "execution_count": null,
      "outputs": []
    },
    {
      "cell_type": "markdown",
      "source": [
        "##### 1. Why did you pick the specific chart?"
      ],
      "metadata": {
        "id": "ylSl6qgtp1ck"
      }
    },
    {
      "cell_type": "markdown",
      "source": [
        "A box plot is an effective way to visualize the distribution of ADR across different customer types, as it shows the median, quartiles, and potential outliers in the data."
      ],
      "metadata": {
        "id": "m2xqNkiQp1ck"
      }
    },
    {
      "cell_type": "markdown",
      "source": [
        "##### 2. What is/are the insight(s) found from the chart?"
      ],
      "metadata": {
        "id": "ZWILFDl5p1ck"
      }
    },
    {
      "cell_type": "markdown",
      "source": [
        "**Customer Segmentation:**\n",
        "\n",
        "Different customer types (e.g., Transient, Group, Contract) often have distinct price sensitivities and booking behaviors. For example, Contract customers might secure lower rates due to bulk bookings, while Transient customers might pay higher rates for flexibility.\n",
        "\n",
        "**Pricing Strategy:**\n",
        "\n",
        "Understanding ADR variations by customer type helps hotels tailor their pricing strategies. If Group bookings show significantly lower ADR, hotels may consider incentives for this segment to boost overall revenue.\n"
      ],
      "metadata": {
        "id": "x-lUsV2mp1ck"
      }
    },
    {
      "cell_type": "markdown",
      "source": [
        "##### 3. Will the gained insights help creating a positive business impact?\n",
        "Are there any insights that lead to negative growth? Justify with specific reason."
      ],
      "metadata": {
        "id": "M7G43BXep1ck"
      }
    },
    {
      "cell_type": "markdown",
      "source": [
        "Yes,Insights into which customer types yield higher ADR can guide operational focus, such as enhancing services and experiences for those segments, thereby encouraging repeat business and referrals"
      ],
      "metadata": {
        "id": "5wwDJXsLp1cl"
      }
    },
    {
      "cell_type": "markdown",
      "source": [
        "#### Chart - 13"
      ],
      "metadata": {
        "id": "Ag9LCva-p1cl"
      }
    },
    {
      "cell_type": "code",
      "source": [
        "# Chart - 13 visualization code"
      ],
      "metadata": {
        "id": "EUfxeq9-p1cl"
      },
      "execution_count": null,
      "outputs": []
    },
    {
      "cell_type": "markdown",
      "source": [
        "##### 1. Why did you pick the specific chart?"
      ],
      "metadata": {
        "id": "E6MkPsBcp1cl"
      }
    },
    {
      "cell_type": "markdown",
      "source": [
        "Answer Here."
      ],
      "metadata": {
        "id": "V22bRsFWp1cl"
      }
    },
    {
      "cell_type": "markdown",
      "source": [
        "##### 2. What is/are the insight(s) found from the chart?"
      ],
      "metadata": {
        "id": "2cELzS2fp1cl"
      }
    },
    {
      "cell_type": "markdown",
      "source": [
        "Answer Here"
      ],
      "metadata": {
        "id": "ozQPc2_Ip1cl"
      }
    },
    {
      "cell_type": "markdown",
      "source": [
        "##### 3. Will the gained insights help creating a positive business impact?\n",
        "Are there any insights that lead to negative growth? Justify with specific reason."
      ],
      "metadata": {
        "id": "3MPXvC8up1cl"
      }
    },
    {
      "cell_type": "markdown",
      "source": [
        "Answer Here"
      ],
      "metadata": {
        "id": "GL8l1tdLp1cl"
      }
    },
    {
      "cell_type": "markdown",
      "source": [
        "#### Chart - 14 - Correlation Heatmap"
      ],
      "metadata": {
        "id": "NC_X3p0fY2L0"
      }
    },
    {
      "cell_type": "code",
      "source": [
        "# Correlation Heatmap visualization code"
      ],
      "metadata": {
        "id": "xyC9zolEZNRQ"
      },
      "execution_count": null,
      "outputs": []
    },
    {
      "cell_type": "markdown",
      "source": [
        "##### 1. Why did you pick the specific chart?"
      ],
      "metadata": {
        "id": "UV0SzAkaZNRQ"
      }
    },
    {
      "cell_type": "markdown",
      "source": [
        "Answer Here."
      ],
      "metadata": {
        "id": "DVPuT8LYZNRQ"
      }
    },
    {
      "cell_type": "markdown",
      "source": [
        "##### 2. What is/are the insight(s) found from the chart?"
      ],
      "metadata": {
        "id": "YPEH6qLeZNRQ"
      }
    },
    {
      "cell_type": "markdown",
      "source": [
        "Answer Here"
      ],
      "metadata": {
        "id": "bfSqtnDqZNRR"
      }
    },
    {
      "cell_type": "markdown",
      "source": [
        "#### Chart - 15 - Pair Plot"
      ],
      "metadata": {
        "id": "q29F0dvdveiT"
      }
    },
    {
      "cell_type": "code",
      "source": [
        "# Pair Plot visualization code"
      ],
      "metadata": {
        "id": "o58-TEIhveiU"
      },
      "execution_count": null,
      "outputs": []
    },
    {
      "cell_type": "markdown",
      "source": [
        "##### 1. Why did you pick the specific chart?"
      ],
      "metadata": {
        "id": "EXh0U9oCveiU"
      }
    },
    {
      "cell_type": "markdown",
      "source": [
        "Answer Here."
      ],
      "metadata": {
        "id": "eMmPjTByveiU"
      }
    },
    {
      "cell_type": "markdown",
      "source": [
        "##### 2. What is/are the insight(s) found from the chart?"
      ],
      "metadata": {
        "id": "22aHeOlLveiV"
      }
    },
    {
      "cell_type": "markdown",
      "source": [
        "Answer Here"
      ],
      "metadata": {
        "id": "uPQ8RGwHveiV"
      }
    },
    {
      "cell_type": "markdown",
      "source": [
        "## **5. Solution to Business Objective**"
      ],
      "metadata": {
        "id": "JcMwzZxoAimU"
      }
    },
    {
      "cell_type": "markdown",
      "source": [
        "#### What do you suggest the client to achieve Business Objective ?\n",
        "Explain Briefly."
      ],
      "metadata": {
        "id": "8G2x9gOozGDZ"
      }
    },
    {
      "cell_type": "markdown",
      "source": [
        "**1.Optimize Pricing Strategies:**\n",
        "\n",
        "Dynamic Pricing: Implement a dynamic pricing model that adjusts rates based on demand, seasonality, and customer segmentation. Use historical booking data to forecast demand and optimize pricing accordingly.\n",
        "Customer Segmentation: Tailor pricing and promotional offers to different customer types (e.g., Transient, Group, Contract) to maximize occupancy and revenue. For instance, offer discounts to repeat guests or loyalty program members.\n",
        "\n",
        "**2. Enhance Marketing and Promotions:**\n",
        "\n",
        "Targeted Marketing Campaigns: Leverage customer data to create personalized marketing campaigns. Use insights from ADR distributions to target high-value segments with specific promotions, such as special packages for business travelers or families.\n",
        "Utilize Social Media and Online Advertising: Engage potential customers through social media platforms and targeted online ads, highlighting unique offerings, seasonal promotions, and customer testimonials.\n",
        "\n",
        "**3. Improve Guest Experience**\n",
        "\n",
        "Customer Service Training: Invest in training staff to provide exceptional service, as positive guest experiences can lead to repeat bookings and word-of-mouth referrals.\n",
        "Feedback and Reviews: Actively seek guest feedback and monitor online reviews. Address concerns promptly to improve overall satisfaction and enhance the hotel’s reputation.\n",
        "\n",
        "4.** Leverage Technology** **bold text:**\n",
        "\n",
        "Booking Engine Optimization: Ensure the hotel’s website and booking engine are user-friendly and optimized for mobile devices. A seamless booking experience can reduce abandonment rates.\n",
        "Data Analytics: Utilize data analytics tools to continually monitor booking trends, customer preferences, and cancellation rates. This can help in making informed decisions regarding inventory management and promotional strategies.\n",
        "\n",
        "**5. Increase Direct Bookings**\n",
        "\n",
        "Incentivize Direct Bookings: Encourage customers to book directly through the hotel’s website by offering perks such as discounted rates, complimentary upgrades, or free amenities (e.g., breakfast or parking).\n",
        "Loyalty Programs: Develop or enhance a loyalty program that rewards repeat customers with points, discounts, or exclusive offers, thus fostering long-term relationships.\n",
        "\n",
        "**6. Focus on Revenue Management**\n",
        "\n",
        "Forecasting and Budgeting: Regularly analyze historical data to create accurate forecasts for future bookings, revenue, and occupancy rates. This will help in setting realistic budgets and financial goals.\n",
        "Monitor Competitors: Keep an eye on competitor pricing and promotional strategies to ensure the hotel remains competitive in the market."
      ],
      "metadata": {
        "id": "pASKb0qOza21"
      }
    },
    {
      "cell_type": "markdown",
      "source": [
        "# **Conclusion**"
      ],
      "metadata": {
        "id": "gCX9965dhzqZ"
      }
    },
    {
      "cell_type": "markdown",
      "source": [
        "By implementing these strategies, the client can enhance their competitive edge in the hotel booking market, optimize revenue, improve customer satisfaction, and ultimately achieve their business objectives. Regularly reviewing and adjusting these strategies based on data insights will ensure continued success and adaptation to changing market conditions."
      ],
      "metadata": {
        "id": "Fjb1IsQkh3yE"
      }
    },
    {
      "cell_type": "markdown",
      "source": [
        "### ***Hurrah! You have successfully completed your EDA Capstone Project !!!***"
      ],
      "metadata": {
        "id": "gIfDvo9L0UH2"
      }
    }
  ]
}